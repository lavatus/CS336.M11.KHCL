{
  "nbformat": 4,
  "nbformat_minor": 0,
  "metadata": {
    "colab": {
      "name": "IR_ResNet101_Kmeans.ipynb",
      "provenance": [],
      "collapsed_sections": [],
      "toc_visible": true
    },
    "kernelspec": {
      "name": "python3",
      "display_name": "Python 3"
    },
    "language_info": {
      "name": "python"
    },
    "accelerator": "GPU",
    "widgets": {
      "application/vnd.jupyter.widget-state+json": {
        "3f24f1ba87a84299986bb19b3250361d": {
          "model_module": "@jupyter-widgets/controls",
          "model_name": "HBoxModel",
          "model_module_version": "1.5.0",
          "state": {
            "_view_name": "HBoxView",
            "_dom_classes": [],
            "_model_name": "HBoxModel",
            "_view_module": "@jupyter-widgets/controls",
            "_model_module_version": "1.5.0",
            "_view_count": null,
            "_view_module_version": "1.5.0",
            "box_style": "",
            "layout": "IPY_MODEL_50558dfcbe6b4433b5a5b6200e4d0312",
            "_model_module": "@jupyter-widgets/controls",
            "children": [
              "IPY_MODEL_bc3c224eda9c42e49c719d28d74d439b",
              "IPY_MODEL_567379fbbb3147a2a2127233b47b239b",
              "IPY_MODEL_92cddd55a1ae447e845f4e1a7ab0ae01"
            ]
          }
        },
        "50558dfcbe6b4433b5a5b6200e4d0312": {
          "model_module": "@jupyter-widgets/base",
          "model_name": "LayoutModel",
          "model_module_version": "1.2.0",
          "state": {
            "_view_name": "LayoutView",
            "grid_template_rows": null,
            "right": null,
            "justify_content": null,
            "_view_module": "@jupyter-widgets/base",
            "overflow": null,
            "_model_module_version": "1.2.0",
            "_view_count": null,
            "flex_flow": null,
            "width": null,
            "min_width": null,
            "border": null,
            "align_items": null,
            "bottom": null,
            "_model_module": "@jupyter-widgets/base",
            "top": null,
            "grid_column": null,
            "overflow_y": null,
            "overflow_x": null,
            "grid_auto_flow": null,
            "grid_area": null,
            "grid_template_columns": null,
            "flex": null,
            "_model_name": "LayoutModel",
            "justify_items": null,
            "grid_row": null,
            "max_height": null,
            "align_content": null,
            "visibility": null,
            "align_self": null,
            "height": null,
            "min_height": null,
            "padding": null,
            "grid_auto_rows": null,
            "grid_gap": null,
            "max_width": null,
            "order": null,
            "_view_module_version": "1.2.0",
            "grid_template_areas": null,
            "object_position": null,
            "object_fit": null,
            "grid_auto_columns": null,
            "margin": null,
            "display": null,
            "left": null
          }
        },
        "bc3c224eda9c42e49c719d28d74d439b": {
          "model_module": "@jupyter-widgets/controls",
          "model_name": "HTMLModel",
          "model_module_version": "1.5.0",
          "state": {
            "_view_name": "HTMLView",
            "style": "IPY_MODEL_6eb0ef517345467f91e5ed60065cdc78",
            "_dom_classes": [],
            "description": "",
            "_model_name": "HTMLModel",
            "placeholder": "​",
            "_view_module": "@jupyter-widgets/controls",
            "_model_module_version": "1.5.0",
            "value": "100%",
            "_view_count": null,
            "_view_module_version": "1.5.0",
            "description_tooltip": null,
            "_model_module": "@jupyter-widgets/controls",
            "layout": "IPY_MODEL_db0bb0a9a4f94d21bdb9e514ec2c63fd"
          }
        },
        "567379fbbb3147a2a2127233b47b239b": {
          "model_module": "@jupyter-widgets/controls",
          "model_name": "FloatProgressModel",
          "model_module_version": "1.5.0",
          "state": {
            "_view_name": "ProgressView",
            "style": "IPY_MODEL_540aacbf813d4d1698384dfdef885216",
            "_dom_classes": [],
            "description": "",
            "_model_name": "FloatProgressModel",
            "bar_style": "success",
            "max": 10,
            "_view_module": "@jupyter-widgets/controls",
            "_model_module_version": "1.5.0",
            "value": 10,
            "_view_count": null,
            "_view_module_version": "1.5.0",
            "orientation": "horizontal",
            "min": 0,
            "description_tooltip": null,
            "_model_module": "@jupyter-widgets/controls",
            "layout": "IPY_MODEL_51f7760218be475a96e67b532543f71d"
          }
        },
        "92cddd55a1ae447e845f4e1a7ab0ae01": {
          "model_module": "@jupyter-widgets/controls",
          "model_name": "HTMLModel",
          "model_module_version": "1.5.0",
          "state": {
            "_view_name": "HTMLView",
            "style": "IPY_MODEL_c1faa8e537d64be690fbe1cfb734f487",
            "_dom_classes": [],
            "description": "",
            "_model_name": "HTMLModel",
            "placeholder": "​",
            "_view_module": "@jupyter-widgets/controls",
            "_model_module_version": "1.5.0",
            "value": " 10/10 [28:51&lt;00:00, 235.08s/it]",
            "_view_count": null,
            "_view_module_version": "1.5.0",
            "description_tooltip": null,
            "_model_module": "@jupyter-widgets/controls",
            "layout": "IPY_MODEL_3067bf8f42b043d48f204f7a112d0c2e"
          }
        },
        "6eb0ef517345467f91e5ed60065cdc78": {
          "model_module": "@jupyter-widgets/controls",
          "model_name": "DescriptionStyleModel",
          "model_module_version": "1.5.0",
          "state": {
            "_view_name": "StyleView",
            "_model_name": "DescriptionStyleModel",
            "description_width": "",
            "_view_module": "@jupyter-widgets/base",
            "_model_module_version": "1.5.0",
            "_view_count": null,
            "_view_module_version": "1.2.0",
            "_model_module": "@jupyter-widgets/controls"
          }
        },
        "db0bb0a9a4f94d21bdb9e514ec2c63fd": {
          "model_module": "@jupyter-widgets/base",
          "model_name": "LayoutModel",
          "model_module_version": "1.2.0",
          "state": {
            "_view_name": "LayoutView",
            "grid_template_rows": null,
            "right": null,
            "justify_content": null,
            "_view_module": "@jupyter-widgets/base",
            "overflow": null,
            "_model_module_version": "1.2.0",
            "_view_count": null,
            "flex_flow": null,
            "width": null,
            "min_width": null,
            "border": null,
            "align_items": null,
            "bottom": null,
            "_model_module": "@jupyter-widgets/base",
            "top": null,
            "grid_column": null,
            "overflow_y": null,
            "overflow_x": null,
            "grid_auto_flow": null,
            "grid_area": null,
            "grid_template_columns": null,
            "flex": null,
            "_model_name": "LayoutModel",
            "justify_items": null,
            "grid_row": null,
            "max_height": null,
            "align_content": null,
            "visibility": null,
            "align_self": null,
            "height": null,
            "min_height": null,
            "padding": null,
            "grid_auto_rows": null,
            "grid_gap": null,
            "max_width": null,
            "order": null,
            "_view_module_version": "1.2.0",
            "grid_template_areas": null,
            "object_position": null,
            "object_fit": null,
            "grid_auto_columns": null,
            "margin": null,
            "display": null,
            "left": null
          }
        },
        "540aacbf813d4d1698384dfdef885216": {
          "model_module": "@jupyter-widgets/controls",
          "model_name": "ProgressStyleModel",
          "model_module_version": "1.5.0",
          "state": {
            "_view_name": "StyleView",
            "_model_name": "ProgressStyleModel",
            "description_width": "",
            "_view_module": "@jupyter-widgets/base",
            "_model_module_version": "1.5.0",
            "_view_count": null,
            "_view_module_version": "1.2.0",
            "bar_color": null,
            "_model_module": "@jupyter-widgets/controls"
          }
        },
        "51f7760218be475a96e67b532543f71d": {
          "model_module": "@jupyter-widgets/base",
          "model_name": "LayoutModel",
          "model_module_version": "1.2.0",
          "state": {
            "_view_name": "LayoutView",
            "grid_template_rows": null,
            "right": null,
            "justify_content": null,
            "_view_module": "@jupyter-widgets/base",
            "overflow": null,
            "_model_module_version": "1.2.0",
            "_view_count": null,
            "flex_flow": null,
            "width": null,
            "min_width": null,
            "border": null,
            "align_items": null,
            "bottom": null,
            "_model_module": "@jupyter-widgets/base",
            "top": null,
            "grid_column": null,
            "overflow_y": null,
            "overflow_x": null,
            "grid_auto_flow": null,
            "grid_area": null,
            "grid_template_columns": null,
            "flex": null,
            "_model_name": "LayoutModel",
            "justify_items": null,
            "grid_row": null,
            "max_height": null,
            "align_content": null,
            "visibility": null,
            "align_self": null,
            "height": null,
            "min_height": null,
            "padding": null,
            "grid_auto_rows": null,
            "grid_gap": null,
            "max_width": null,
            "order": null,
            "_view_module_version": "1.2.0",
            "grid_template_areas": null,
            "object_position": null,
            "object_fit": null,
            "grid_auto_columns": null,
            "margin": null,
            "display": null,
            "left": null
          }
        },
        "c1faa8e537d64be690fbe1cfb734f487": {
          "model_module": "@jupyter-widgets/controls",
          "model_name": "DescriptionStyleModel",
          "model_module_version": "1.5.0",
          "state": {
            "_view_name": "StyleView",
            "_model_name": "DescriptionStyleModel",
            "description_width": "",
            "_view_module": "@jupyter-widgets/base",
            "_model_module_version": "1.5.0",
            "_view_count": null,
            "_view_module_version": "1.2.0",
            "_model_module": "@jupyter-widgets/controls"
          }
        },
        "3067bf8f42b043d48f204f7a112d0c2e": {
          "model_module": "@jupyter-widgets/base",
          "model_name": "LayoutModel",
          "model_module_version": "1.2.0",
          "state": {
            "_view_name": "LayoutView",
            "grid_template_rows": null,
            "right": null,
            "justify_content": null,
            "_view_module": "@jupyter-widgets/base",
            "overflow": null,
            "_model_module_version": "1.2.0",
            "_view_count": null,
            "flex_flow": null,
            "width": null,
            "min_width": null,
            "border": null,
            "align_items": null,
            "bottom": null,
            "_model_module": "@jupyter-widgets/base",
            "top": null,
            "grid_column": null,
            "overflow_y": null,
            "overflow_x": null,
            "grid_auto_flow": null,
            "grid_area": null,
            "grid_template_columns": null,
            "flex": null,
            "_model_name": "LayoutModel",
            "justify_items": null,
            "grid_row": null,
            "max_height": null,
            "align_content": null,
            "visibility": null,
            "align_self": null,
            "height": null,
            "min_height": null,
            "padding": null,
            "grid_auto_rows": null,
            "grid_gap": null,
            "max_width": null,
            "order": null,
            "_view_module_version": "1.2.0",
            "grid_template_areas": null,
            "object_position": null,
            "object_fit": null,
            "grid_auto_columns": null,
            "margin": null,
            "display": null,
            "left": null
          }
        }
      }
    }
  },
  "cells": [
    {
      "cell_type": "markdown",
      "source": [
        "# **_CS336.M11.KHCL_**\n",
        "---\n",
        "Team members\n",
        "\n",
        "|No.| Full name         |Student ID       |Team role      |Github|\n",
        "|:-:|:------------------|:---------:|:--------:|:-----------:|\n",
        "| 1\t|[Nguyễn Trung Tuấn](https://www.facebook.com/trungtuan.nguyen.509994)\t| 19552477\t| ![](https://img.shields.io/badge/-Leader-yellow) |[lavatus](https://github.com/lavatus)|\n",
        "| 2\t|[Dương Nguyễn Thuận](https://www.facebook.com/dnthuan.97)\t| 19522312\t| ![](https://img.shields.io/badge/-Member-yellow)  |[DNThuan](https://github.com/DNThuan)|\n",
        "| 3\t|[Trịnh Nhật Tân](https://www.facebook.com/8thJunie)\t  | 19522179\t| ![](https://img.shields.io/badge/-Member-yellow)  |[trnhattan](https://github.com/trnhattan)|\n"
      ],
      "metadata": {
        "id": "FEe3CQY5FESa"
      }
    },
    {
      "cell_type": "markdown",
      "source": [
        "# Essential modules"
      ],
      "metadata": {
        "id": "ruNgOkQEFmQY"
      }
    },
    {
      "cell_type": "code",
      "source": [
        "import os, sys, copy\n",
        "import cv2\n",
        "import shutil\n",
        "import numpy as np\n",
        "import pandas as pd\n",
        "import seaborn as sns\n",
        "import matplotlib.pyplot as plt\n",
        "\n",
        "from tqdm import tqdm, notebook\n",
        "\n",
        "from sklearn.metrics.pairwise import cosine_similarity, euclidean_distances\n",
        "from sklearn.cluster import KMeans\n",
        "\n",
        "import tensorflow as tf\n",
        "import tensorflow.keras as keras\n",
        "\n",
        "from tensorflow.keras.utils import image_dataset_from_directory\n",
        "from tensorflow.keras.callbacks import ModelCheckpoint\n",
        "from tensorflow.keras.models import Sequential, Model, load_model\n",
        "from tensorflow.keras.layers import Resizing, Rescaling, Input, \\\n",
        "                                    MaxPooling2D, Flatten\n",
        "\n",
        "from tensorflow.keras.applications.resnet import ResNet101\n",
        "from tensorflow.keras.applications.vgg16 import VGG16"
      ],
      "metadata": {
        "id": "EeoPrmAyUys9"
      },
      "execution_count": null,
      "outputs": []
    },
    {
      "cell_type": "code",
      "source": [
        "from google.colab import drive\n",
        "drive.mount('/content/drive')"
      ],
      "metadata": {
        "colab": {
          "base_uri": "https://localhost:8080/"
        },
        "id": "VGWzqdZBbjc1",
        "outputId": "067f5236-923e-463d-cc6e-421d5793a2d3"
      },
      "execution_count": null,
      "outputs": [
        {
          "output_type": "stream",
          "name": "stdout",
          "text": [
            "Mounted at /content/drive\n"
          ]
        }
      ]
    },
    {
      "cell_type": "code",
      "source": [
        "%cd /content/drive/MyDrive/CS336"
      ],
      "metadata": {
        "colab": {
          "base_uri": "https://localhost:8080/"
        },
        "id": "DgPeqMYUwVs9",
        "outputId": "0075fb01-ec89-4b70-98bf-47357cb45cb9"
      },
      "execution_count": null,
      "outputs": [
        {
          "output_type": "stream",
          "name": "stdout",
          "text": [
            "/content/drive/MyDrive/third_yr/CS336\n"
          ]
        }
      ]
    },
    {
      "cell_type": "code",
      "source": [
        "DATAPATH = \"/content/drive/MyDrive/CS336\""
      ],
      "metadata": {
        "id": "fHBuyfepwX35"
      },
      "execution_count": null,
      "outputs": []
    },
    {
      "cell_type": "markdown",
      "source": [
        "# Essential functions"
      ],
      "metadata": {
        "id": "PTStJ9NvxCCB"
      }
    },
    {
      "cell_type": "markdown",
      "source": [
        "Hàm sắp xếp các `tuple` theo thứ tự giảm dần"
      ],
      "metadata": {
        "id": "YOt9RQbDGM6g"
      }
    },
    {
      "cell_type": "code",
      "source": [
        "def Sort_Tuple(tup): \n",
        "    tup.sort(key = lambda x: x[1]) \n",
        "    return tup "
      ],
      "metadata": {
        "id": "h2HkwFztExvM"
      },
      "execution_count": null,
      "outputs": []
    },
    {
      "cell_type": "markdown",
      "source": [
        "---\n",
        "Hàm tính `ap` như chúng em đã giới thiệu bằng `pseudocode` trong báo cáo\n",
        "\n",
        "```python\n",
        "def compute_ap(groundtruth, ranked_list):\n",
        "    \"\"\"\n",
        "        groundtruth: danh sách các groundtruth tương ứng với câu query đó.\n",
        "        ranked_list: kết quả trả về đã được sắp xếp giảm dần theo khoảng cách\n",
        "    \"\"\"\n",
        "```\n"
      ],
      "metadata": {
        "id": "x2XfPpChGUvp"
      }
    },
    {
      "cell_type": "code",
      "source": [
        "def compute_ap(rel, ranked_list):\n",
        "    ap = 0.0\n",
        "    precision = 1.0\n",
        "    intersect_size = 0\n",
        "    precision_list = []\n",
        "    j = 0\n",
        "    for i in range(len(ranked_list)):\n",
        "        if ranked_list[i] in rel:\n",
        "            intersect_size += 1\n",
        "            precision = intersect_size / (j + 1.0)\n",
        "            precision_list.append(precision)\n",
        "        j += 1\n",
        "    ap = np.array(precision_list).mean()\n",
        "    return ap"
      ],
      "metadata": {
        "id": "e4R-ZF2ycpYz"
      },
      "execution_count": null,
      "outputs": []
    },
    {
      "cell_type": "markdown",
      "source": [
        "---\n",
        "Hàm trả về `index` các ảnh có trong cluster mà query đó thuộc về\n",
        "```python\n",
        "def predict(IMGPATH, kmeans, features):\n",
        "    \"\"\"\n",
        "        IMGPATH: đường dẫn hình của câu query.\n",
        "        kmeans: thuật toán `kmeans` đã được fit với các features, và số cụm trước đó\n",
        "        features: numpy.array các features\n",
        "    \"\"\"\n",
        "```"
      ],
      "metadata": {
        "id": "XovmwRLgGhEz"
      }
    },
    {
      "cell_type": "code",
      "source": [
        "def predict(IMGPATH, kmeans, features):\n",
        "  query_img = cv2.imread(IMGPATH)\n",
        "  query_img = cv2.resize(query_img, input_shape[: 2])\n",
        "  query_img = tf.expand_dims(tf.convert_to_tensor(query_img), axis=0)\n",
        "\n",
        "  query_features = model.predict(query_img, batch_size=None)\n",
        "\n",
        "  label_query = kmeans.predict(query_features.astype(np.float32))\n",
        "\n",
        "  rank_list_features = []\n",
        "  rank_list_index = []\n",
        "\n",
        "  for index,label in enumerate(kmeans.labels_,0):\n",
        "      if label == label_query:\n",
        "          rank_list_features.append(features[index])\n",
        "          rank_list_index.append(index)\n",
        "\n",
        "  sim = []\n",
        "\n",
        "  for v in zip(rank_list_features, rank_list_index):\n",
        "      cos_sim = np.dot(query_features, v[0]) / (np.linalg.norm(query_features) * np.linalg.norm(v[0]))\n",
        "      sim.append((cos_sim,v[1])) \n",
        "\n",
        "  relevant_ans = Sort_Tuple(sim)\n",
        "\n",
        "  return relevant_ans"
      ],
      "metadata": {
        "id": "iuc3CoGweTiF"
      },
      "execution_count": null,
      "outputs": []
    },
    {
      "cell_type": "markdown",
      "source": [
        "---\n",
        "Hàm `plot` các kết quả trả về của các hình ảnh có trong cluster theo thứ tự giảm dần về khoảng cách.\n",
        "\n",
        "```python\n",
        "def plot_result(IMGPATH, kmeans, features):\n",
        "    \"\"\"\n",
        "        IMGPATH: đường dẫn hình của câu query.\n",
        "        kmeans: thuật toán `kmeans` đã được fit với các features, và số cụm trước đó\n",
        "        features: numpy.array các features\n",
        "    \"\"\"\n",
        "```"
      ],
      "metadata": {
        "id": "Ou42vJ22IVto"
      }
    },
    {
      "cell_type": "code",
      "source": [
        "def plot_result(IMGPATH, kmeans, features):\n",
        "  relevant_ans = predict(IMGPATH, kmeans, features)\n",
        "  for ans in relevant_ans[:len(relevant_ans) // 2]:\n",
        "      img = cv2.imread(f\"{data_df.iloc[ans[1]][1]}\")\n",
        "      plt.figure(figsize=(8, 8))\n",
        "      plt.imshow(cv2.cvtColor(img, cv2.COLOR_BGR2RGB))\n",
        "      plt.axis('off')\n",
        "      plt.show()"
      ],
      "metadata": {
        "id": "_-qglcJDg1Tt"
      },
      "execution_count": null,
      "outputs": []
    },
    {
      "cell_type": "markdown",
      "source": [
        "---\n",
        "Hàm tính `mAP` cho toàn bộ query\n",
        "\n",
        "```python\n",
        "def plot_result(IMGPATH, kmeans, features):\n",
        "    \"\"\"\n",
        "        IMGPATH: đường dẫn hình của câu query.\n",
        "        kmeans: thuật toán `kmeans` đã được fit với các features, và số cụm trước đó\n",
        "        features: numpy.array các features\n",
        "    \"\"\"\n",
        "```\n"
      ],
      "metadata": {
        "id": "U1YaumKcIsrf"
      }
    },
    {
      "cell_type": "code",
      "source": [
        "def compute_mAP(DATAPATH, kmeans, features):\n",
        "  ap =[] \n",
        "  for q in sorted(os.listdir(f\"{DATAPATH}/query\")): \n",
        "    IMGPATH = f\"/content/drive/MyDrive/CS336/query/{q}\"\n",
        "    relevant_ans = predict(IMGPATH, kmeans, features)\n",
        "    ranked_list = []\n",
        "    for ans in relevant_ans:\n",
        "      ranked_list.append(f\"{data_df.iloc[ans[1]][1]}\".split('/')[-1].split('.')[0])\n",
        "\n",
        "    gt = []\n",
        "    grd = f\"{q[: q.rindex('_')]}.txt\"\n",
        "    with open(f'/content/drive/MyDrive/CS336/gt/{grd}') as gt_f:\n",
        "        gt = [line.strip() for line in gt_f.readlines()]\n",
        "\n",
        "    q_ap = compute_ap(gt, ranked_list)\n",
        "    ap.append(q_ap)\n",
        "  return np.array(ap).mean()"
      ],
      "metadata": {
        "id": "8ZXc8jbuVHNg"
      },
      "execution_count": null,
      "outputs": []
    },
    {
      "cell_type": "markdown",
      "source": [
        "# File indexing"
      ],
      "metadata": {
        "id": "VOfnm6pdwYcE"
      }
    },
    {
      "cell_type": "markdown",
      "source": [
        "## Create file indexing"
      ],
      "metadata": {
        "id": "iXIe44m-wd-D"
      }
    },
    {
      "cell_type": "code",
      "source": [
        "data_df = pd.DataFrame(columns=['index', 'path'])"
      ],
      "metadata": {
        "id": "i7Z_RGcSTBgL"
      },
      "execution_count": null,
      "outputs": []
    },
    {
      "cell_type": "code",
      "source": [
        "i = 0\n",
        "for file in sorted(os.listdir(f\"/content/drive/MyDrive/CS336/dataset\")):\n",
        "    data_df.loc[i] = [i, f\"/content/drive/MyDrive/CS336/dataset/{file}\"]\n",
        "    i += 1"
      ],
      "metadata": {
        "id": "tRpD9Zm3TE-L"
      },
      "execution_count": null,
      "outputs": []
    },
    {
      "cell_type": "markdown",
      "source": [
        "## Load index"
      ],
      "metadata": {
        "id": "ZOfrJWUzwhPU"
      }
    },
    {
      "cell_type": "code",
      "source": [
        "data_df = pd.read_csv(\"./index.csv\", index_col=0)\n",
        "data_df.head()"
      ],
      "metadata": {
        "colab": {
          "base_uri": "https://localhost:8080/",
          "height": 206
        },
        "id": "Z7pYnpiexMo7",
        "outputId": "8501db1d-da5f-4155-9a7c-fad06b3e9997"
      },
      "execution_count": null,
      "outputs": [
        {
          "output_type": "execute_result",
          "data": {
            "text/html": [
              "\n",
              "  <div id=\"df-146a265d-7c9e-4494-8a8b-ffc4ce013727\">\n",
              "    <div class=\"colab-df-container\">\n",
              "      <div>\n",
              "<style scoped>\n",
              "    .dataframe tbody tr th:only-of-type {\n",
              "        vertical-align: middle;\n",
              "    }\n",
              "\n",
              "    .dataframe tbody tr th {\n",
              "        vertical-align: top;\n",
              "    }\n",
              "\n",
              "    .dataframe thead th {\n",
              "        text-align: right;\n",
              "    }\n",
              "</style>\n",
              "<table border=\"1\" class=\"dataframe\">\n",
              "  <thead>\n",
              "    <tr style=\"text-align: right;\">\n",
              "      <th></th>\n",
              "      <th>index</th>\n",
              "      <th>path</th>\n",
              "    </tr>\n",
              "  </thead>\n",
              "  <tbody>\n",
              "    <tr>\n",
              "      <th>0</th>\n",
              "      <td>0</td>\n",
              "      <td>/content/drive/MyDrive/CS336/dataset/all_souls...</td>\n",
              "    </tr>\n",
              "    <tr>\n",
              "      <th>1</th>\n",
              "      <td>1</td>\n",
              "      <td>/content/drive/MyDrive/CS336/dataset/all_souls...</td>\n",
              "    </tr>\n",
              "    <tr>\n",
              "      <th>2</th>\n",
              "      <td>2</td>\n",
              "      <td>/content/drive/MyDrive/CS336/dataset/all_souls...</td>\n",
              "    </tr>\n",
              "    <tr>\n",
              "      <th>3</th>\n",
              "      <td>3</td>\n",
              "      <td>/content/drive/MyDrive/CS336/dataset/all_souls...</td>\n",
              "    </tr>\n",
              "    <tr>\n",
              "      <th>4</th>\n",
              "      <td>4</td>\n",
              "      <td>/content/drive/MyDrive/CS336/dataset/all_souls...</td>\n",
              "    </tr>\n",
              "  </tbody>\n",
              "</table>\n",
              "</div>\n",
              "      <button class=\"colab-df-convert\" onclick=\"convertToInteractive('df-146a265d-7c9e-4494-8a8b-ffc4ce013727')\"\n",
              "              title=\"Convert this dataframe to an interactive table.\"\n",
              "              style=\"display:none;\">\n",
              "        \n",
              "  <svg xmlns=\"http://www.w3.org/2000/svg\" height=\"24px\"viewBox=\"0 0 24 24\"\n",
              "       width=\"24px\">\n",
              "    <path d=\"M0 0h24v24H0V0z\" fill=\"none\"/>\n",
              "    <path d=\"M18.56 5.44l.94 2.06.94-2.06 2.06-.94-2.06-.94-.94-2.06-.94 2.06-2.06.94zm-11 1L8.5 8.5l.94-2.06 2.06-.94-2.06-.94L8.5 2.5l-.94 2.06-2.06.94zm10 10l.94 2.06.94-2.06 2.06-.94-2.06-.94-.94-2.06-.94 2.06-2.06.94z\"/><path d=\"M17.41 7.96l-1.37-1.37c-.4-.4-.92-.59-1.43-.59-.52 0-1.04.2-1.43.59L10.3 9.45l-7.72 7.72c-.78.78-.78 2.05 0 2.83L4 21.41c.39.39.9.59 1.41.59.51 0 1.02-.2 1.41-.59l7.78-7.78 2.81-2.81c.8-.78.8-2.07 0-2.86zM5.41 20L4 18.59l7.72-7.72 1.47 1.35L5.41 20z\"/>\n",
              "  </svg>\n",
              "      </button>\n",
              "      \n",
              "  <style>\n",
              "    .colab-df-container {\n",
              "      display:flex;\n",
              "      flex-wrap:wrap;\n",
              "      gap: 12px;\n",
              "    }\n",
              "\n",
              "    .colab-df-convert {\n",
              "      background-color: #E8F0FE;\n",
              "      border: none;\n",
              "      border-radius: 50%;\n",
              "      cursor: pointer;\n",
              "      display: none;\n",
              "      fill: #1967D2;\n",
              "      height: 32px;\n",
              "      padding: 0 0 0 0;\n",
              "      width: 32px;\n",
              "    }\n",
              "\n",
              "    .colab-df-convert:hover {\n",
              "      background-color: #E2EBFA;\n",
              "      box-shadow: 0px 1px 2px rgba(60, 64, 67, 0.3), 0px 1px 3px 1px rgba(60, 64, 67, 0.15);\n",
              "      fill: #174EA6;\n",
              "    }\n",
              "\n",
              "    [theme=dark] .colab-df-convert {\n",
              "      background-color: #3B4455;\n",
              "      fill: #D2E3FC;\n",
              "    }\n",
              "\n",
              "    [theme=dark] .colab-df-convert:hover {\n",
              "      background-color: #434B5C;\n",
              "      box-shadow: 0px 1px 3px 1px rgba(0, 0, 0, 0.15);\n",
              "      filter: drop-shadow(0px 1px 2px rgba(0, 0, 0, 0.3));\n",
              "      fill: #FFFFFF;\n",
              "    }\n",
              "  </style>\n",
              "\n",
              "      <script>\n",
              "        const buttonEl =\n",
              "          document.querySelector('#df-146a265d-7c9e-4494-8a8b-ffc4ce013727 button.colab-df-convert');\n",
              "        buttonEl.style.display =\n",
              "          google.colab.kernel.accessAllowed ? 'block' : 'none';\n",
              "\n",
              "        async function convertToInteractive(key) {\n",
              "          const element = document.querySelector('#df-146a265d-7c9e-4494-8a8b-ffc4ce013727');\n",
              "          const dataTable =\n",
              "            await google.colab.kernel.invokeFunction('convertToInteractive',\n",
              "                                                     [key], {});\n",
              "          if (!dataTable) return;\n",
              "\n",
              "          const docLinkHtml = 'Like what you see? Visit the ' +\n",
              "            '<a target=\"_blank\" href=https://colab.research.google.com/notebooks/data_table.ipynb>data table notebook</a>'\n",
              "            + ' to learn more about interactive tables.';\n",
              "          element.innerHTML = '';\n",
              "          dataTable['output_type'] = 'display_data';\n",
              "          await google.colab.output.renderOutput(dataTable, element);\n",
              "          const docLink = document.createElement('div');\n",
              "          docLink.innerHTML = docLinkHtml;\n",
              "          element.appendChild(docLink);\n",
              "        }\n",
              "      </script>\n",
              "    </div>\n",
              "  </div>\n",
              "  "
            ],
            "text/plain": [
              "   index                                               path\n",
              "0      0  /content/drive/MyDrive/CS336/dataset/all_souls...\n",
              "1      1  /content/drive/MyDrive/CS336/dataset/all_souls...\n",
              "2      2  /content/drive/MyDrive/CS336/dataset/all_souls...\n",
              "3      3  /content/drive/MyDrive/CS336/dataset/all_souls...\n",
              "4      4  /content/drive/MyDrive/CS336/dataset/all_souls..."
            ]
          },
          "metadata": {},
          "execution_count": 5
        }
      ]
    },
    {
      "cell_type": "markdown",
      "source": [
        "# Model"
      ],
      "metadata": {
        "id": "hcv9Smj3wwCo"
      }
    },
    {
      "cell_type": "code",
      "source": [
        "tf.keras.backend.clear_session()"
      ],
      "metadata": {
        "id": "-V8CciYGTJ3s"
      },
      "execution_count": null,
      "outputs": []
    },
    {
      "cell_type": "code",
      "source": [
        "input_shape = (224, 224, 3)"
      ],
      "metadata": {
        "id": "B2_-ZSMaTNZL"
      },
      "execution_count": null,
      "outputs": []
    },
    {
      "cell_type": "code",
      "source": [
        "base_model = ResNet101(include_top=True, weights='imagenet', input_shape=input_shape)\n",
        "base_model._name = \"ResNet101\"\n",
        "\n",
        "model = Model(inputs = base_model.input, outputs = base_model.layers[-2].output)\n",
        "# model.summary()"
      ],
      "metadata": {
        "colab": {
          "base_uri": "https://localhost:8080/"
        },
        "id": "UIee_hjkMxns",
        "outputId": "0d96f31b-c8d2-4648-d980-a231c5a94453"
      },
      "execution_count": null,
      "outputs": [
        {
          "output_type": "stream",
          "name": "stdout",
          "text": [
            "Downloading data from https://storage.googleapis.com/tensorflow/keras-applications/resnet/resnet101_weights_tf_dim_ordering_tf_kernels.h5\n",
            "179650560/179648224 [==============================] - 4s 0us/step\n",
            "179658752/179648224 [==============================] - 4s 0us/step\n"
          ]
        }
      ]
    },
    {
      "cell_type": "markdown",
      "source": [
        "## Load features"
      ],
      "metadata": {
        "id": "aZBVdvXrw0A8"
      }
    },
    {
      "cell_type": "markdown",
      "source": [
        "Để tiện lợi cho việc sử dụng, thì chúng em đã lưu các features vào `features.npy`. "
      ],
      "metadata": {
        "id": "jeT26oVnJCHX"
      }
    },
    {
      "cell_type": "code",
      "source": [
        "with open('./feature_vectors/ResNet101_features.npy', 'rb') as f:\n",
        "    features = np.load(f)"
      ],
      "metadata": {
        "id": "UN-ltUI9ITFT"
      },
      "execution_count": null,
      "outputs": []
    },
    {
      "cell_type": "markdown",
      "source": [
        "# Evaluation"
      ],
      "metadata": {
        "id": "IR3QenSGGFGc"
      }
    },
    {
      "cell_type": "code",
      "source": [
        "list_mAP = []\n",
        "for i in notebook.tqdm_notebook(range(50,550, 50)):\n",
        "  kmeans = KMeans(n_clusters=i, random_state=0).fit(features)\n",
        "  list_mAP.append(compute_mAP(DATAPATH, kmeans, features))"
      ],
      "metadata": {
        "id": "5J7PQogOLAYb",
        "colab": {
          "base_uri": "https://localhost:8080/",
          "height": 49,
          "referenced_widgets": [
            "3f24f1ba87a84299986bb19b3250361d",
            "50558dfcbe6b4433b5a5b6200e4d0312",
            "bc3c224eda9c42e49c719d28d74d439b",
            "567379fbbb3147a2a2127233b47b239b",
            "92cddd55a1ae447e845f4e1a7ab0ae01",
            "6eb0ef517345467f91e5ed60065cdc78",
            "db0bb0a9a4f94d21bdb9e514ec2c63fd",
            "540aacbf813d4d1698384dfdef885216",
            "51f7760218be475a96e67b532543f71d",
            "c1faa8e537d64be690fbe1cfb734f487",
            "3067bf8f42b043d48f204f7a112d0c2e"
          ]
        },
        "outputId": "955bf702-4683-4aeb-95e7-ce4aa61bc6a9"
      },
      "execution_count": null,
      "outputs": [
        {
          "output_type": "display_data",
          "data": {
            "application/vnd.jupyter.widget-view+json": {
              "model_id": "3f24f1ba87a84299986bb19b3250361d",
              "version_minor": 0,
              "version_major": 2
            },
            "text/plain": [
              "  0%|          | 0/10 [00:00<?, ?it/s]"
            ]
          },
          "metadata": {}
        }
      ]
    },
    {
      "cell_type": "code",
      "source": [
        "plt.figure(figsize=(12,8))\n",
        "plt.rcParams.update({'font.size': 16})\n",
        "plt.plot(range(50,550,50), list_mAP, marker='o')\n",
        "plt.xlabel('Cluster')\n",
        "plt.ylabel('mAP')\n",
        "plt.plot()"
      ],
      "metadata": {
        "id": "jVsK3DZsOGMG",
        "colab": {
          "base_uri": "https://localhost:8080/",
          "height": 524
        },
        "outputId": "e08651c6-90d6-4089-f4e9-a6adf5df76ce"
      },
      "execution_count": null,
      "outputs": [
        {
          "output_type": "execute_result",
          "data": {
            "text/plain": [
              "[]"
            ]
          },
          "metadata": {},
          "execution_count": 18
        },
        {
          "output_type": "display_data",
          "data": {
            "image/png": "[encoded data removed]",
            "text/plain": [
              "<Figure size 864x576 with 1 Axes>"
            ]
          },
          "metadata": {
            "needs_background": "light"
          }
        }
      ]
    },
    {
      "cell_type": "code",
      "source": [
        "np.around(np.array(list_mAP), decimals=3)"
      ],
      "metadata": {
        "colab": {
          "base_uri": "https://localhost:8080/"
        },
        "id": "ZvxPPW5tq497",
        "outputId": "9886bde9-ed6e-4354-8996-361c76e5a254"
      },
      "execution_count": null,
      "outputs": [
        {
          "output_type": "execute_result",
          "data": {
            "text/plain": [
              "array([0.237, 0.39 , 0.432, 0.444, 0.514, 0.473, 0.542, 0.536, 0.571,\n",
              "       0.57 ])"
            ]
          },
          "metadata": {},
          "execution_count": 20
        }
      ]
    },
    {
      "cell_type": "code",
      "source": [
        "plot_result(\"/content/drive/MyDrive/CS336/query/all_souls_1_query.jpg\", kmeans, features)"
      ],
      "metadata": {
        "id": "AKFSmfGIip--"
      },
      "execution_count": null,
      "outputs": []
    }
  ]
}